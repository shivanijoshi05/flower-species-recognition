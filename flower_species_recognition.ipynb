{
  "nbformat": 4,
  "nbformat_minor": 0,
  "metadata": {
    "colab": {
      "name": "Shivani_Joshi.ipynb",
      "provenance": []
    },
    "kernelspec": {
      "name": "python3",
      "display_name": "Python 3"
    }
  },
  "cells": [
    {
      "cell_type": "markdown",
      "metadata": {
        "id": "eVjQN55MHoMf"
      },
      "source": [
        "Importing Libraries :"
      ]
    },
    {
      "cell_type": "code",
      "metadata": {
        "id": "J-TwiR26HjV2"
      },
      "source": [
        "import pandas as pd\r\n",
        "import numpy as np"
      ],
      "execution_count": 2,
      "outputs": []
    },
    {
      "cell_type": "markdown",
      "metadata": {
        "id": "wtujeSpfHkbV"
      },
      "source": [
        "Importing iris dataset from sklearn.dataset\r\n",
        "\r\n",
        "  * Here the sklearn is the popular framework for macmachine learning.\r\n",
        "  * we are loading iris dataset by using load_iris()."
      ]
    },
    {
      "cell_type": "code",
      "metadata": {
        "id": "HYrb3iEYIH4c"
      },
      "source": [
        "from sklearn.datasets import load_iris\r\n",
        "iris_dataset = load_iris()"
      ],
      "execution_count": 4,
      "outputs": []
    },
    {
      "cell_type": "markdown",
      "metadata": {
        "id": "NSFkRTJcJKqt"
      },
      "source": [
        "To know the form of iris dataset we are displaying its key:\r\n"
      ]
    },
    {
      "cell_type": "code",
      "metadata": {
        "colab": {
          "base_uri": "https://localhost:8080/"
        },
        "id": "zJlml7A8Jree",
        "outputId": "d14fdef8-e6ba-4f0e-98ba-ec5b5c50eb0e"
      },
      "source": [
        "print(\"Keys of iris dataset : {}\".format(iris_dataset.keys()))"
      ],
      "execution_count": 6,
      "outputs": [
        {
          "output_type": "stream",
          "text": [
            "Keys of iris dataset : dict_keys(['data', 'target', 'target_names', 'DESCR', 'feature_names', 'filename'])\n"
          ],
          "name": "stdout"
        }
      ]
    },
    {
      "cell_type": "markdown",
      "metadata": {
        "id": "zpQgoOrBJ9qi"
      },
      "source": [
        "Displays the values stored in 'DESCR' key :"
      ]
    },
    {
      "cell_type": "code",
      "metadata": {
        "colab": {
          "base_uri": "https://localhost:8080/"
        },
        "id": "YCO3sNozKPgi",
        "outputId": "f2d8a3e2-d274-4ab0-9b35-a4c79e7e9446"
      },
      "source": [
        "print(iris_dataset['DESCR'][:200]+\"\\n ...\")"
      ],
      "execution_count": 7,
      "outputs": [
        {
          "output_type": "stream",
          "text": [
            ".. _iris_dataset:\n",
            "\n",
            "Iris plants dataset\n",
            "--------------------\n",
            "\n",
            "**Data Set Characteristics:**\n",
            "\n",
            "    :Number of Instances: 150 (50 in each of three classes)\n",
            "    :Number of Attributes: 4 numeric, predictive\n",
            " ...\n"
          ],
          "name": "stdout"
        }
      ]
    },
    {
      "cell_type": "markdown",
      "metadata": {
        "id": "65TjcTjkKmTh"
      },
      "source": [
        "Displays the values store in 'target_names' key :"
      ]
    },
    {
      "cell_type": "code",
      "metadata": {
        "colab": {
          "base_uri": "https://localhost:8080/"
        },
        "id": "RDQGT0cJK1MR",
        "outputId": "bc8469ac-9736-4694-9d0e-28686a99232f"
      },
      "source": [
        "print(\"Target Names : {}\".format(iris_dataset['target_names']))"
      ],
      "execution_count": 8,
      "outputs": [
        {
          "output_type": "stream",
          "text": [
            "Target Names : ['setosa' 'versicolor' 'virginica']\n"
          ],
          "name": "stdout"
        }
      ]
    },
    {
      "cell_type": "markdown",
      "metadata": {
        "id": "-o-G7ka-LOUu"
      },
      "source": [
        "Displays values stored in the 'feature_names' key :"
      ]
    },
    {
      "cell_type": "code",
      "metadata": {
        "colab": {
          "base_uri": "https://localhost:8080/"
        },
        "id": "YQp1DinXLOqd",
        "outputId": "54868377-ec6f-4ccf-9d8b-99cb9bda9474"
      },
      "source": [
        "print(\"Feature Names : {}\".format(iris_dataset['feature_names']))"
      ],
      "execution_count": 10,
      "outputs": [
        {
          "output_type": "stream",
          "text": [
            "Feature Names : ['sepal length (cm)', 'sepal width (cm)', 'petal length (cm)', 'petal width (cm)']\n"
          ],
          "name": "stdout"
        }
      ]
    },
    {
      "cell_type": "markdown",
      "metadata": {
        "id": "zklLsnfAMBJx"
      },
      "source": [
        "Displays the type of the 'data' key :"
      ]
    },
    {
      "cell_type": "code",
      "metadata": {
        "colab": {
          "base_uri": "https://localhost:8080/"
        },
        "id": "57afUpZvMHUb",
        "outputId": "06d815c6-82f9-4353-a5e5-81fdf2abf475"
      },
      "source": [
        "print(\"Type of data : {} \".format(type(iris_dataset['data'])))"
      ],
      "execution_count": 11,
      "outputs": [
        {
          "output_type": "stream",
          "text": [
            "Type of data : <class 'numpy.ndarray'> \n"
          ],
          "name": "stdout"
        }
      ]
    },
    {
      "cell_type": "markdown",
      "metadata": {
        "id": "PMxwoHxMMUX_"
      },
      "source": [
        "Displays the shape of data :"
      ]
    },
    {
      "cell_type": "code",
      "metadata": {
        "colab": {
          "base_uri": "https://localhost:8080/"
        },
        "id": "xbvRim6pMmhX",
        "outputId": "3feabd90-b048-41c6-9e52-640150db0ce8"
      },
      "source": [
        "print(\"Shape of data : {}\".format(iris_dataset['data'].shape))"
      ],
      "execution_count": 16,
      "outputs": [
        {
          "output_type": "stream",
          "text": [
            "Shape of data : (150, 4)\n"
          ],
          "name": "stdout"
        }
      ]
    },
    {
      "cell_type": "markdown",
      "metadata": {
        "id": "NXngL5xHM1Lx"
      },
      "source": [
        "This line of code prints the first five rows of data-key :"
      ]
    },
    {
      "cell_type": "code",
      "metadata": {
        "colab": {
          "base_uri": "https://localhost:8080/"
        },
        "id": "KmlBZ2KENAu9",
        "outputId": "881aa4e3-1940-4434-e0e6-3638b83bf494"
      },
      "source": [
        "print(\"First five rows of data : \\n{}\".format(iris_dataset['data'][:5]))"
      ],
      "execution_count": 14,
      "outputs": [
        {
          "output_type": "stream",
          "text": [
            "First five rows of data : \n",
            "[[5.1 3.5 1.4 0.2]\n",
            " [4.9 3.  1.4 0.2]\n",
            " [4.7 3.2 1.3 0.2]\n",
            " [4.6 3.1 1.5 0.2]\n",
            " [5.  3.6 1.4 0.2]]\n"
          ],
          "name": "stdout"
        }
      ]
    },
    {
      "cell_type": "markdown",
      "metadata": {
        "id": "QB6PdV2xNY55"
      },
      "source": [
        "This line of code prints the type of 'target' key :"
      ]
    },
    {
      "cell_type": "code",
      "metadata": {
        "colab": {
          "base_uri": "https://localhost:8080/"
        },
        "id": "A8OxwkHqOYkf",
        "outputId": "4ed5f946-9e5a-400a-852d-4afa90787c5a"
      },
      "source": [
        "print(\"Type of target : {}\".format(type(iris_dataset['target'])))"
      ],
      "execution_count": 17,
      "outputs": [
        {
          "output_type": "stream",
          "text": [
            "Type of target : <class 'numpy.ndarray'>\n"
          ],
          "name": "stdout"
        }
      ]
    },
    {
      "cell_type": "markdown",
      "metadata": {
        "id": "TLIXXahjOw-F"
      },
      "source": [
        "Displays the shape of 'target' key  :"
      ]
    },
    {
      "cell_type": "code",
      "metadata": {
        "colab": {
          "base_uri": "https://localhost:8080/"
        },
        "id": "bHzwgdK8O0to",
        "outputId": "3d086e29-b023-4070-a861-5ebab211871f"
      },
      "source": [
        "print(\"Shape of target : {}\".format(iris_dataset['target'].shape))"
      ],
      "execution_count": 18,
      "outputs": [
        {
          "output_type": "stream",
          "text": [
            "Shape of target : (150,)\n"
          ],
          "name": "stdout"
        }
      ]
    },
    {
      "cell_type": "markdown",
      "metadata": {
        "id": "IBBta-MeO-w2"
      },
      "source": [
        "To display the values stored in 'target' key :"
      ]
    },
    {
      "cell_type": "code",
      "metadata": {
        "colab": {
          "base_uri": "https://localhost:8080/"
        },
        "id": "zZaeHZH7PJBF",
        "outputId": "b2483c77-a354-4602-9fc3-db6fa64108c9"
      },
      "source": [
        "print(\"Target :\\n {}\".format(iris_dataset['target']))"
      ],
      "execution_count": 19,
      "outputs": [
        {
          "output_type": "stream",
          "text": [
            "Target :\n",
            " [0 0 0 0 0 0 0 0 0 0 0 0 0 0 0 0 0 0 0 0 0 0 0 0 0 0 0 0 0 0 0 0 0 0 0 0 0\n",
            " 0 0 0 0 0 0 0 0 0 0 0 0 0 1 1 1 1 1 1 1 1 1 1 1 1 1 1 1 1 1 1 1 1 1 1 1 1\n",
            " 1 1 1 1 1 1 1 1 1 1 1 1 1 1 1 1 1 1 1 1 1 1 1 1 1 1 2 2 2 2 2 2 2 2 2 2 2\n",
            " 2 2 2 2 2 2 2 2 2 2 2 2 2 2 2 2 2 2 2 2 2 2 2 2 2 2 2 2 2 2 2 2 2 2 2 2 2\n",
            " 2 2]\n"
          ],
          "name": "stdout"
        }
      ]
    },
    {
      "cell_type": "markdown",
      "metadata": {
        "id": "OtEvucbjPVB5"
      },
      "source": [
        "To train and test the iris-data we are using sklearn.model_selection\r\n",
        "\r\n",
        "  * Here we are importing train_test_split from sklearn.model_selection\r\n"
      ]
    },
    {
      "cell_type": "code",
      "metadata": {
        "id": "YTHihyZUQW7f"
      },
      "source": [
        "from sklearn.model_selection import train_test_split\r\n",
        "X_train, X_test, y_train, y_test = train_test_split( \r\n",
        "                                   iris_dataset['data'],iris_dataset['target'],random_state=0 )"
      ],
      "execution_count": 25,
      "outputs": []
    },
    {
      "cell_type": "markdown",
      "metadata": {
        "id": "Eml-7b56ROaL"
      },
      "source": [
        "Shape of nd arrays (x_train, y_train, x_test, y_test) after splitting :"
      ]
    },
    {
      "cell_type": "code",
      "metadata": {
        "colab": {
          "base_uri": "https://localhost:8080/"
        },
        "id": "M0zhCAA5RhBq",
        "outputId": "88af406d-f500-418f-fbd5-4c659f7b0531"
      },
      "source": [
        "print(\"Shape of X_train : {}\".format(X_train.shape))\r\n",
        "print(\"Shape of y_train : {}\".format(y_train.shape))\r\n",
        "print(\"Shape of X_test : {}\".format(X_test.shape))\r\n",
        "print(\"Shape of y_test : {}\".format(y_test.shape))"
      ],
      "execution_count": 26,
      "outputs": [
        {
          "output_type": "stream",
          "text": [
            "Shape of X_train : (112, 4)\n",
            "Shape of y_train : (112,)\n",
            "Shape of X_test : (38, 4)\n",
            "Shape of y_test : (38,)\n"
          ],
          "name": "stdout"
        }
      ]
    },
    {
      "cell_type": "markdown",
      "metadata": {
        "id": "PI8N2ibvR-qR"
      },
      "source": [
        "Now we are importing KNeighborsClassifier from sklearn.neighneighbors \r\n",
        "\r\n",
        "  * Also, we assign k-nearest neighneighbors equal to 1 by using     KNeighborsClassifier function to knn. \r\n",
        "\r\n",
        "\r\n"
      ]
    },
    {
      "cell_type": "code",
      "metadata": {
        "id": "fCwYW1UUSt51"
      },
      "source": [
        "from sklearn.neighbors import KNeighborsClassifier\r\n",
        "knn = KNeighborsClassifier(n_neighbors=1)"
      ],
      "execution_count": 23,
      "outputs": []
    },
    {
      "cell_type": "markdown",
      "metadata": {
        "id": "CEgtfc7yTQdX"
      },
      "source": [
        "We trained the model in training data :"
      ]
    },
    {
      "cell_type": "code",
      "metadata": {
        "colab": {
          "base_uri": "https://localhost:8080/"
        },
        "id": "GSrZudxyTZ-x",
        "outputId": "b28d59ab-ae21-4929-8bd8-6dbfb0d0136f"
      },
      "source": [
        "knn.fit(X_train,y_train)"
      ],
      "execution_count": 27,
      "outputs": [
        {
          "output_type": "execute_result",
          "data": {
            "text/plain": [
              "KNeighborsClassifier(algorithm='auto', leaf_size=30, metric='minkowski',\n",
              "                     metric_params=None, n_jobs=None, n_neighbors=1, p=2,\n",
              "                     weights='uniform')"
            ]
          },
          "metadata": {
            "tags": []
          },
          "execution_count": 27
        }
      ]
    },
    {
      "cell_type": "markdown",
      "metadata": {
        "id": "ftsgiSZZTiyy"
      },
      "source": [
        "Creating numpy array named X_new and printing the shape of it :"
      ]
    },
    {
      "cell_type": "code",
      "metadata": {
        "colab": {
          "base_uri": "https://localhost:8080/"
        },
        "id": "_POrHoAGUIhL",
        "outputId": "9aae28c1-980b-4bc9-e11d-8a1a0a1d298b"
      },
      "source": [
        "X_new = np.array([[5,2.9,1,0.2]])\r\n",
        "print(\"X_new shape : {}\".format(X_new.shape))"
      ],
      "execution_count": 30,
      "outputs": [
        {
          "output_type": "stream",
          "text": [
            "X_new shape : (1, 4)\n"
          ],
          "name": "stdout"
        }
      ]
    },
    {
      "cell_type": "markdown",
      "metadata": {
        "id": "sCsuyS5KVKek"
      },
      "source": [
        "Making predictions with the help of predict method of knn object :"
      ]
    },
    {
      "cell_type": "code",
      "metadata": {
        "colab": {
          "base_uri": "https://localhost:8080/"
        },
        "id": "tI-UojqAVNUR",
        "outputId": "b37fda96-3020-4b4e-8438-9c03641f2166"
      },
      "source": [
        "prediction = knn.predict(X_new)\r\n",
        "print(\"Prediction : {}\".format(prediction))\r\n",
        "print(\"Predicted target name : {}\".format(iris_dataset['target_names'][prediction]))"
      ],
      "execution_count": 31,
      "outputs": [
        {
          "output_type": "stream",
          "text": [
            "Prediction : [0]\n",
            "Predicted target name : ['setosa']\n"
          ],
          "name": "stdout"
        }
      ]
    },
    {
      "cell_type": "markdown",
      "metadata": {
        "id": "adau9zW3WH9i"
      },
      "source": [
        "Evaluating the model by testing it on test dataset :"
      ]
    },
    {
      "cell_type": "code",
      "metadata": {
        "colab": {
          "base_uri": "https://localhost:8080/"
        },
        "id": "bg84xtLAW1QJ",
        "outputId": "c97a282d-7c0f-4208-90fc-73a5d36c2873"
      },
      "source": [
        "y_pred=knn.predict(X_test)\r\n",
        "print(\"Test set predictions : \\n{}\".format(y_pred))"
      ],
      "execution_count": 33,
      "outputs": [
        {
          "output_type": "stream",
          "text": [
            "Test set predictions : \n",
            "[2 1 0 2 0 2 0 1 1 1 2 1 1 1 1 0 1 1 0 0 2 1 0 0 2 0 0 1 1 0 2 1 0 2 2 1 0\n",
            " 2]\n"
          ],
          "name": "stdout"
        }
      ]
    },
    {
      "cell_type": "markdown",
      "metadata": {
        "id": "Biw3nT_sXZFg"
      },
      "source": [
        "Displaying test score :"
      ]
    },
    {
      "cell_type": "code",
      "metadata": {
        "colab": {
          "base_uri": "https://localhost:8080/"
        },
        "id": "3bvHSLKlXfbn",
        "outputId": "4b6f03fb-bb40-41af-bea8-b53dd202a557"
      },
      "source": [
        "print(\"Test set score : {}\".format(np.mean(y_pred == y_test)))"
      ],
      "execution_count": 36,
      "outputs": [
        {
          "output_type": "stream",
          "text": [
            "Test set score : 0.9736842105263158\n"
          ],
          "name": "stdout"
        }
      ]
    }
  ]
}